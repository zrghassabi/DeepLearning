{
  "nbformat": 4,
  "nbformat_minor": 0,
  "metadata": {
    "colab": {
      "provenance": [],
      "include_colab_link": true
    },
    "kernelspec": {
      "name": "python3",
      "display_name": "Python 3"
    }
  },
  "cells": [
    {
      "cell_type": "markdown",
      "metadata": {
        "id": "view-in-github",
        "colab_type": "text"
      },
      "source": [
        "<a href=\"https://colab.research.google.com/github/zrghassabi/DeepLearning/blob/main/Using_Autograd%5B1%5D.ipynb\" target=\"_parent\"><img src=\"https://colab.research.google.com/assets/colab-badge.svg\" alt=\"Open In Colab\"/></a>"
      ]
    },
    {
      "cell_type": "markdown",
      "metadata": {
        "id": "K-BUF2iqY_0n"
      },
      "source": [
        "# Autograd with tensors"
      ]
    },
    {
      "cell_type": "code",
      "metadata": {
        "id": "nbCTeu9AZDak"
      },
      "source": [
        "import torch"
      ],
      "execution_count": 1,
      "outputs": []
    },
    {
      "cell_type": "code",
      "metadata": {
        "id": "AIpMXYEQZDYG",
        "colab": {
          "base_uri": "https://localhost:8080/"
        },
        "outputId": "e9a8a247-1f11-4bc6-bd4b-748ac14b5a6a"
      },
      "source": [
        "w=torch.randn(4,3,requires_grad=True)\n",
        "w"
      ],
      "execution_count": 3,
      "outputs": [
        {
          "output_type": "execute_result",
          "data": {
            "text/plain": [
              "tensor([[ 0.4696,  0.0385,  0.5215],\n",
              "        [ 0.5331, -1.2261,  0.8514],\n",
              "        [ 0.7582,  1.0256, -1.1996],\n",
              "        [ 1.3019, -2.4264,  0.4628]], requires_grad=True)"
            ]
          },
          "metadata": {},
          "execution_count": 3
        }
      ]
    },
    {
      "cell_type": "code",
      "metadata": {
        "id": "tPCDpREGZDV_",
        "colab": {
          "base_uri": "https://localhost:8080/"
        },
        "outputId": "e0e7ee98-3e88-43a0-9931-e31b5f6094b9"
      },
      "source": [
        "w.requires_grad_(False)"
      ],
      "execution_count": 5,
      "outputs": [
        {
          "output_type": "execute_result",
          "data": {
            "text/plain": [
              "tensor([[ 0.4696,  0.0385,  0.5215],\n",
              "        [ 0.5331, -1.2261,  0.8514],\n",
              "        [ 0.7582,  1.0256, -1.1996],\n",
              "        [ 1.3019, -2.4264,  0.4628]])"
            ]
          },
          "metadata": {},
          "execution_count": 5
        }
      ]
    },
    {
      "cell_type": "code",
      "metadata": {
        "id": "tc6j07MfZDTW",
        "colab": {
          "base_uri": "https://localhost:8080/"
        },
        "outputId": "bd348082-25cf-40d7-8567-ac26c21211a3"
      },
      "source": [
        "w.requires_grad_(True)"
      ],
      "execution_count": 6,
      "outputs": [
        {
          "output_type": "execute_result",
          "data": {
            "text/plain": [
              "tensor([[ 0.4696,  0.0385,  0.5215],\n",
              "        [ 0.5331, -1.2261,  0.8514],\n",
              "        [ 0.7582,  1.0256, -1.1996],\n",
              "        [ 1.3019, -2.4264,  0.4628]], requires_grad=True)"
            ]
          },
          "metadata": {},
          "execution_count": 6
        }
      ]
    },
    {
      "cell_type": "code",
      "metadata": {
        "id": "FYs5XvOlZDOH",
        "colab": {
          "base_uri": "https://localhost:8080/"
        },
        "outputId": "d6e762b7-3f1d-409f-a729-f77839ce31e4"
      },
      "source": [
        "y=torch.exp(w)\n",
        "y"
      ],
      "execution_count": 8,
      "outputs": [
        {
          "output_type": "execute_result",
          "data": {
            "text/plain": [
              "tensor([[1.5994, 1.0393, 1.6846],\n",
              "        [1.7042, 0.2934, 2.3429],\n",
              "        [2.1343, 2.7889, 0.3013],\n",
              "        [3.6763, 0.0884, 1.5886]], grad_fn=<ExpBackward0>)"
            ]
          },
          "metadata": {},
          "execution_count": 8
        }
      ]
    },
    {
      "cell_type": "code",
      "metadata": {
        "id": "sH5UvYQRZDLx",
        "colab": {
          "base_uri": "https://localhost:8080/"
        },
        "outputId": "f6df5d8b-7246-4b0d-a879-aa45b49095d4"
      },
      "source": [
        "print(y.grad_fn)"
      ],
      "execution_count": 9,
      "outputs": [
        {
          "output_type": "stream",
          "name": "stdout",
          "text": [
            "<ExpBackward0 object at 0x7d06540b7880>\n"
          ]
        }
      ]
    },
    {
      "cell_type": "code",
      "metadata": {
        "id": "5ZLCejs4ZDJY",
        "colab": {
          "base_uri": "https://localhost:8080/"
        },
        "outputId": "3b00408a-852a-43df-9213-b1b41fcdd1fa"
      },
      "source": [
        "output=y.mean()\n",
        "print(output)"
      ],
      "execution_count": 10,
      "outputs": [
        {
          "output_type": "stream",
          "name": "stdout",
          "text": [
            "tensor(1.6035, grad_fn=<MeanBackward0>)\n"
          ]
        }
      ]
    },
    {
      "cell_type": "code",
      "metadata": {
        "id": "ZadWbpkSZDHG",
        "colab": {
          "base_uri": "https://localhost:8080/"
        },
        "outputId": "0f7cefba-6a7a-4e45-d1ec-b290e90ceeff"
      },
      "source": [
        "print(w.grad)"
      ],
      "execution_count": 11,
      "outputs": [
        {
          "output_type": "stream",
          "name": "stdout",
          "text": [
            "None\n"
          ]
        }
      ]
    },
    {
      "cell_type": "code",
      "metadata": {
        "id": "AHJk7sFyZDEy"
      },
      "source": [
        "output.backward()"
      ],
      "execution_count": 12,
      "outputs": []
    },
    {
      "cell_type": "code",
      "metadata": {
        "id": "YVpjuVGsZDCa",
        "colab": {
          "base_uri": "https://localhost:8080/"
        },
        "outputId": "7b72cb23-1a95-4bde-9fb2-293e66e8d090"
      },
      "source": [
        "w.grad"
      ],
      "execution_count": 13,
      "outputs": [
        {
          "output_type": "execute_result",
          "data": {
            "text/plain": [
              "tensor([[0.1333, 0.0866, 0.1404],\n",
              "        [0.1420, 0.0245, 0.1952],\n",
              "        [0.1779, 0.2324, 0.0251],\n",
              "        [0.3064, 0.0074, 0.1324]])"
            ]
          },
          "metadata": {},
          "execution_count": 13
        }
      ]
    },
    {
      "cell_type": "code",
      "metadata": {
        "id": "WDcj6yzYZC_w",
        "colab": {
          "base_uri": "https://localhost:8080/"
        },
        "outputId": "9b1d7430-e003-4c74-b20b-e29cc29afbb4"
      },
      "source": [
        "print(output.requires_grad)"
      ],
      "execution_count": 14,
      "outputs": [
        {
          "output_type": "stream",
          "name": "stdout",
          "text": [
            "True\n"
          ]
        }
      ]
    },
    {
      "cell_type": "code",
      "metadata": {
        "id": "rgQ6iBEfZC9H",
        "colab": {
          "base_uri": "https://localhost:8080/"
        },
        "outputId": "b852b4d8-9952-4374-9636-ff5b596fca78"
      },
      "source": [
        "with torch.no_grad():\n",
        "  output=(w+y).mean()\n",
        "\n",
        "print(output.grad)"
      ],
      "execution_count": 15,
      "outputs": [
        {
          "output_type": "stream",
          "name": "stdout",
          "text": [
            "None\n"
          ]
        }
      ]
    },
    {
      "cell_type": "code",
      "metadata": {
        "id": "pWxFJywCZC6_",
        "colab": {
          "base_uri": "https://localhost:8080/"
        },
        "outputId": "0768a698-982f-4f99-c7d8-b12298f039a9"
      },
      "source": [
        "output"
      ],
      "execution_count": 16,
      "outputs": [
        {
          "output_type": "execute_result",
          "data": {
            "text/plain": [
              "tensor(1.6960)"
            ]
          },
          "metadata": {},
          "execution_count": 16
        }
      ]
    },
    {
      "cell_type": "code",
      "metadata": {
        "id": "_SjdcUpHZC4y"
      },
      "source": [],
      "execution_count": null,
      "outputs": []
    },
    {
      "cell_type": "code",
      "metadata": {
        "id": "ph9sMtadZC2f"
      },
      "source": [],
      "execution_count": null,
      "outputs": []
    },
    {
      "cell_type": "code",
      "metadata": {
        "id": "QHFUh0XKZC0K"
      },
      "source": [],
      "execution_count": null,
      "outputs": []
    },
    {
      "cell_type": "code",
      "metadata": {
        "id": "AYvKPqwDZCxz"
      },
      "source": [],
      "execution_count": null,
      "outputs": []
    },
    {
      "cell_type": "code",
      "metadata": {
        "id": "8jOCzyjoZCvq"
      },
      "source": [],
      "execution_count": null,
      "outputs": []
    },
    {
      "cell_type": "code",
      "metadata": {
        "id": "3Of_3Y1sZCtv"
      },
      "source": [],
      "execution_count": null,
      "outputs": []
    },
    {
      "cell_type": "code",
      "metadata": {
        "id": "mAWF-KHrY5Ww"
      },
      "source": [],
      "execution_count": null,
      "outputs": []
    }
  ]
}