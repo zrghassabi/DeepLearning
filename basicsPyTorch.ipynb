{
  "nbformat": 4,
  "nbformat_minor": 0,
  "metadata": {
    "colab": {
      "private_outputs": true,
      "provenance": [],
      "authorship_tag": "ABX9TyPiZrCiDWScTWTmeJ2BVyJE",
      "include_colab_link": true
    },
    "kernelspec": {
      "name": "python3",
      "display_name": "Python 3"
    },
    "language_info": {
      "name": "python"
    }
  },
  "cells": [
    {
      "cell_type": "markdown",
      "metadata": {
        "id": "view-in-github",
        "colab_type": "text"
      },
      "source": [
        "<a href=\"https://colab.research.google.com/github/zrghassabi/DeepLearning/blob/main/basicsPyTorch.ipynb\" target=\"_parent\"><img src=\"https://colab.research.google.com/assets/colab-badge.svg\" alt=\"Open In Colab\"/></a>"
      ]
    },
    {
      "cell_type": "code",
      "execution_count": null,
      "metadata": {
        "id": "_FpqjdxM43UC"
      },
      "outputs": [],
      "source": [
        "list=[1,2,3,4]\n",
        "for index,value in enumerate(list):\n",
        "    print(index,value)"
      ]
    },
    {
      "cell_type": "code",
      "source": [
        "import torch\n",
        "\n",
        "tensor = torch.tensor([10, 20, 30])\n",
        "for index, value in enumerate(tensor):\n",
        "    print(index, value.item())"
      ],
      "metadata": {
        "id": "IldR8YuS726q"
      },
      "execution_count": null,
      "outputs": []
    },
    {
      "cell_type": "code",
      "source": [
        "import torch\n",
        "from torch.utils.data import DataLoader, TensorDataset\n",
        "\n",
        "# Create a dataset\n",
        "dataset = TensorDataset(torch.tensor([1, 2, 3]), torch.tensor([4, 5, 6]))\n",
        "\n",
        "# Create a dataloader\n",
        "dataloader = DataLoader(dataset, batch_size=1, shuffle=True)\n",
        "\n",
        "# Get the first batch\n",
        "batch = next(iter(dataloader))\n",
        "print(batch)"
      ],
      "metadata": {
        "id": "Fhta1K429PBR"
      },
      "execution_count": null,
      "outputs": []
    }
  ]
}